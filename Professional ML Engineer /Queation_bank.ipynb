{
 "cells": [
  {
   "cell_type": "markdown",
   "metadata": {},
   "source": [
    "# Google Professional Machine Learning Engineer Exam Actual Questions\n",
    "The questions for Professional Machine Learning Engineer were last updated on Jan. 21, 2024.\n",
    "Viewing page 1 out of 55 pages.\n",
    "Viewing questions 1-5 out of 279 questions\n",
    "https://www.examtopics.com/exams/google/professional-machine-learning-engineer/view/"
   ]
  },
  {
   "cell_type": "markdown",
   "metadata": {},
   "source": [
    "You are building an ML model to detect anomalies in real-time sensor data. You will use Pub/Sub to handle incoming requests. You want to store the results for analytics and visualization. How should you configure the pipeline?\n",
    "\n",
    "A. 1 = Dataflow, 2 = AI Platform, 3 = BigQuery Most Voted\n",
    "\n",
    "B. 1 = DataProc, 2 = AutoML, 3 = Cloud Bigtable\n",
    "\n",
    "C. 1 = BigQuery, 2 = AutoML, 3 = Cloud Functions\n",
    "\n",
    "D. 1 = BigQuery, 2 = AI Platform, 3 = Cloud Storage\n",
    "\n",
    "Correct Answer: A\n",
    "\n",
    "https://cloud.google.com/blog/products/data-analytics/anomaly-detection-using-streaming-analytics-and-ai"
   ]
  },
  {
   "cell_type": "markdown",
   "metadata": {},
   "source": [
    "Your organization wants to make its internal shuttle service route more efficient. The shuttles currently stop at all pick-up points across the city every 30 minutes between 7 am and 10 am. The development team has already built an application on Google Kubernetes Engine that requires users to confirm their presence and shuttle station one day in advance. What approach should you take?\n",
    "A. 1. Build a tree-based regression model that predicts how many passengers will be picked up at each shuttle station. 2. Dispatch an appropriately sized shuttle and provide the map with the required stops based on the prediction.\n",
    "B. 1. Build a tree-based classification model that predicts whether the shuttle should pick up passengers at each shuttle station. 2. Dispatch an available shuttle and provide the map with the required stops based on the prediction.\n",
    "C. 1. Define the optimal route as the shortest route that passes by all shuttle stations with confirmed attendance at the given time under capacity constraints. 2. Dispatch an appropriately sized shuttle and indicate the required stops on the map. Most Voted\n",
    "D. 1. Build a reinforcement learning model with tree-based classification models that predict the presence of passengers at shuttle stops as agents and a reward function around a distance-based metric. 2. Dispatch an appropriately sized shuttle and provide the map with the required stops based on the simulated outcome."
   ]
  },
  {
   "cell_type": "markdown",
   "metadata": {},
   "source": []
  }
 ],
 "metadata": {
  "language_info": {
   "name": "python"
  }
 },
 "nbformat": 4,
 "nbformat_minor": 2
}
